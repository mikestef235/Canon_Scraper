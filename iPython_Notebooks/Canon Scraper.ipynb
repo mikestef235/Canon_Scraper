{
 "cells": [
  {
   "cell_type": "markdown",
   "metadata": {},
   "source": [
    "# Canon DLSR Scraper"
   ]
  },
  {
   "cell_type": "markdown",
   "metadata": {},
   "source": [
    "### Importing Libraries"
   ]
  },
  {
   "cell_type": "code",
   "execution_count": 1,
   "metadata": {},
   "outputs": [],
   "source": [
    "from selenium import webdriver\n",
    "from selenium.webdriver.common.keys import Keys\n",
    "from bs4 import BeautifulSoup\n",
    "from more_itertools import unique_everseen\n",
    "from pprint import pprint\n",
    "from wordcloud import WordCloud\n",
    "from PIL import Image\n",
    "import numpy as np\n",
    "import matplotlib.pyplot as plt\n",
    "import pandas as pd \n",
    "from collections import OrderedDict\n",
    "from datetime import date\n",
    "import time\n",
    "import csv\n",
    "import datetime as dt"
   ]
  },
  {
   "cell_type": "markdown",
   "metadata": {},
   "source": [
    "### Starting the WebDriver"
   ]
  },
  {
   "cell_type": "code",
   "execution_count": 2,
   "metadata": {},
   "outputs": [],
   "source": [
    "#Starting the driver and finding the query element\n",
    "driver = webdriver.Chrome()\n",
    "driver.get(\"https://washingtondc.craigslist.org/nva\")\n",
    "search = driver.find_element_by_id(\"query\")"
   ]
  },
  {
   "cell_type": "code",
   "execution_count": 3,
   "metadata": {},
   "outputs": [],
   "source": [
    "#Inputing the search keyword\n",
    "search.send_keys(\"Canon\")\n",
    "search.send_keys(Keys.ENTER)"
   ]
  },
  {
   "cell_type": "code",
   "execution_count": 4,
   "metadata": {},
   "outputs": [],
   "source": [
    "#Selecting the photo/video and electronics cateories\n",
    "driver.find_element_by_css_selector('input.catcheck.selectallcb').click()\n",
    "driver.find_element_by_css_selector(\".catcheck.multi_checkbox[id='cat_pha']\").click()\n",
    "driver.find_element_by_css_selector(\".catcheck.multi_checkbox[id='cat_ela']\").click()\n",
    "driver.find_element_by_css_selector(\"button.searchlink.linklike.changed_input.clickme\").click()\n",
    "\n",
    "#Bundling duplicates, requiring pictures, not including nearby searches\n",
    "driver.find_element_by_name(\"bundleDuplicates\").click()\n",
    "driver.find_element_by_name(\"hasPic\").click()"
   ]
  },
  {
   "cell_type": "code",
   "execution_count": 5,
   "metadata": {},
   "outputs": [],
   "source": [
    "#Inputing the min and max price\n",
    "minP = driver.find_element_by_name(\"min_price\")\n",
    "minP.send_keys(500)\n",
    "time.sleep(1)\n",
    "maxP = driver.find_element_by_name(\"max_price\")\n",
    "maxP.send_keys(1500)\n",
    "maxP.send_keys(Keys.ENTER)"
   ]
  },
  {
   "cell_type": "markdown",
   "metadata": {},
   "source": [
    "### Gathering Eligible Links"
   ]
  },
  {
   "cell_type": "code",
   "execution_count": 6,
   "metadata": {},
   "outputs": [],
   "source": [
    "#Prepping for beautiful soup\n",
    "html = driver.page_source\n",
    "soup = BeautifulSoup(html, \"html.parser\")"
   ]
  },
  {
   "cell_type": "code",
   "execution_count": 7,
   "metadata": {},
   "outputs": [],
   "source": [
    "#Going through all content divs and finding the links\n",
    "nduplinks = []\n",
    "duplinks=[] \n",
    "#Finding the non duplicated results\n",
    "nonDups = soup.findAll('li', {'class': 'result-row'})\n",
    "for item in nonDups:\n",
    "    nduplinks.append(item.find('a').get('href'))\n",
    "#Finding the duplicated results\n",
    "dups = soup.findAll('ul', {'class': 'duplicate-rows'})\n",
    "for item in dups:\n",
    "    duplinks.append(item.find('a').get('href'))"
   ]
  },
  {
   "cell_type": "code",
   "execution_count": 8,
   "metadata": {},
   "outputs": [],
   "source": [
    "#Removing the duplicates, returning the links list\n",
    "links = [x for x in nduplinks if x not in duplinks]\n",
    "\n",
    "#Removing duplicate links due to pictures and titles both being the same\n",
    "links = list(unique_everseen(links))\n",
    "while \"#\" in links:\n",
    "    links.remove(\"#\")"
   ]
  },
  {
   "cell_type": "markdown",
   "metadata": {},
   "source": [
    "# FOR TEST PURPOSES"
   ]
  },
  {
   "cell_type": "code",
   "execution_count": 9,
   "metadata": {},
   "outputs": [],
   "source": [
    "links = links[:7]"
   ]
  },
  {
   "cell_type": "markdown",
   "metadata": {},
   "source": [
    "# -------------------------------------------"
   ]
  },
  {
   "cell_type": "code",
   "execution_count": 10,
   "metadata": {},
   "outputs": [],
   "source": [
    "#Clicking into the item links\n",
    "count = 0\n",
    "dailyitems=[]\n",
    "itemDict = []\n",
    "for link in links:\n",
    "    #Clicking the item link\n",
    "    link = '\"'+link+'\"'\n",
    "    element = driver.find_element_by_xpath('//a[@href=%s]' %link)\n",
    "    driver.execute_script('arguments[0].click();', element)\n",
    "\n",
    "    #Getting the item html for beautiful soup\n",
    "    html = driver.page_source\n",
    "    soup = BeautifulSoup(html, \"html.parser\")\n",
    "    #Getting the item price and title\n",
    "    price = soup.find('span', {'class': 'price'}).get_text()\n",
    "    title = soup.find('span', {'id': 'titletextonly'}).get_text()\n",
    "    #Getting the item text\n",
    "    text = soup.find('section', {'id':'postingbody'}).get_text()\n",
    "    while \"\\n\" in text:\n",
    "        text = text.replace(\"\\n\", \"\")\n",
    "    while \"QR Code Link to This Post\" in text:\n",
    "        text = text.replace(\"QR Code Link to This Post\", \"\")\n",
    "    itemD = {\"Title\":title, \"Price\":price, \"Description\":text}\n",
    "\n",
    "    #Making a list of dictionaries\n",
    "    itemDict.append(itemD)\n",
    "\n",
    "    #Adding to a list\n",
    "    dailyitems.append([itemD['Title'], itemD['Price'], itemD['Description']])\n",
    "    count += 1\n",
    "    driver.back()"
   ]
  },
  {
   "cell_type": "code",
   "execution_count": 11,
   "metadata": {},
   "outputs": [],
   "source": [
    "#Outputting the results array item by item\n",
    "driver.close()\n",
    "#pprint(dailyitems)\n",
    "df = pd.DataFrame(itemDict)\n",
    "current_listings = df\n",
    "#To Generate the first days csv\n",
    "#current_listings.to_csv('CanonCurrentListings.csv', index=False, encoding='utf-8')"
   ]
  },
  {
   "cell_type": "code",
   "execution_count": 12,
   "metadata": {},
   "outputs": [],
   "source": [
    "#Removing the dollar sign in current listings:\n",
    "if current_listings.Price.dtypes.name != 'int64':\n",
    "    current_listings['Price'] = pd.to_numeric(current_listings['Price'].str.replace('$', ''))\n",
    "\n",
    "#Outputting current listings\n",
    "current_listings = current_listings[['Title', 'Description', 'Price']]"
   ]
  },
  {
   "cell_type": "markdown",
   "metadata": {},
   "source": [
    "### Recording the Time the Script Finished Scraping"
   ]
  },
  {
   "cell_type": "code",
   "execution_count": 13,
   "metadata": {},
   "outputs": [],
   "source": [
    "time_ran = dt.datetime.now()"
   ]
  },
  {
   "cell_type": "markdown",
   "metadata": {},
   "source": [
    "# Begin Comparisons "
   ]
  },
  {
   "cell_type": "markdown",
   "metadata": {},
   "source": [
    "### Read in Past 'current' Listings"
   ]
  },
  {
   "cell_type": "code",
   "execution_count": 29,
   "metadata": {},
   "outputs": [
    {
     "data": {
      "text/html": [
       "<div>\n",
       "<style>\n",
       "    .dataframe thead tr:only-child th {\n",
       "        text-align: right;\n",
       "    }\n",
       "\n",
       "    .dataframe thead th {\n",
       "        text-align: left;\n",
       "    }\n",
       "\n",
       "    .dataframe tbody tr th {\n",
       "        vertical-align: top;\n",
       "    }\n",
       "</style>\n",
       "<table border=\"1\" class=\"dataframe\">\n",
       "  <thead>\n",
       "    <tr style=\"text-align: right;\">\n",
       "      <th></th>\n",
       "      <th>Title</th>\n",
       "      <th>Description</th>\n",
       "      <th>List_Price</th>\n",
       "      <th>List_Date</th>\n",
       "    </tr>\n",
       "  </thead>\n",
       "  <tbody>\n",
       "    <tr>\n",
       "      <th>0</th>\n",
       "      <td>SIGMA 20mm f/1.4 ART for CANON Wide Angle Came...</td>\n",
       "      <td>I bought this lens brand new from BH on March ...</td>\n",
       "      <td>600</td>\n",
       "      <td>6/16/2018</td>\n",
       "    </tr>\n",
       "    <tr>\n",
       "      <th>1</th>\n",
       "      <td>Canon 16-35 F2.8 L II Mint Condition, Flawless</td>\n",
       "      <td>Up for sale is a Canon Canon 16-35 F2.8 L II i...</td>\n",
       "      <td>850</td>\n",
       "      <td>6/16/2018</td>\n",
       "    </tr>\n",
       "    <tr>\n",
       "      <th>2</th>\n",
       "      <td>Low Shutter Canon 6D + 50mm 1.8 + Extra Batteries</td>\n",
       "      <td>I have a Canon 6D in great condition with extr...</td>\n",
       "      <td>770</td>\n",
       "      <td>6/16/2018</td>\n",
       "    </tr>\n",
       "  </tbody>\n",
       "</table>\n",
       "</div>"
      ],
      "text/plain": [
       "                                               Title  \\\n",
       "0  SIGMA 20mm f/1.4 ART for CANON Wide Angle Came...   \n",
       "1     Canon 16-35 F2.8 L II Mint Condition, Flawless   \n",
       "2  Low Shutter Canon 6D + 50mm 1.8 + Extra Batteries   \n",
       "\n",
       "                                         Description  List_Price  List_Date  \n",
       "0  I bought this lens brand new from BH on March ...         600  6/16/2018  \n",
       "1  Up for sale is a Canon Canon 16-35 F2.8 L II i...         850  6/16/2018  \n",
       "2  I have a Canon 6D in great condition with extr...         770  6/16/2018  "
      ]
     },
     "execution_count": 29,
     "metadata": {},
     "output_type": "execute_result"
    }
   ],
   "source": [
    "#Loading the listings from the day before (Dataframe1)\n",
    "old_listings = pd.read_csv('C:/Users/mikes/Documents/Python Scripts/Canon_Scraper/Data_Tables/CanonCurrentListings.csv')\n",
    "old_listings"
   ]
  },
  {
   "cell_type": "code",
   "execution_count": 56,
   "metadata": {},
   "outputs": [],
   "source": [
    "current_listings = current_listings.iloc[:4]"
   ]
  },
  {
   "cell_type": "markdown",
   "metadata": {},
   "source": [
    "### Finding Sold Items"
   ]
  },
  {
   "cell_type": "code",
   "execution_count": 69,
   "metadata": {
    "scrolled": true
   },
   "outputs": [],
   "source": [
    "# If old listing title is not in current listing, assume the item has sold\n",
    "common = old_listings.merge(current_listings, on=['Title', 'Description'])\n",
    "common.rename(columns = {'Price': 'Current Price'}, inplace=True)"
   ]
  },
  {
   "cell_type": "code",
   "execution_count": 83,
   "metadata": {},
   "outputs": [],
   "source": [
    "merged = old_listings.merge(current_listings, indicator=True, how='outer')\n",
    "sold_today = merged[merged['_merge'] == 'left_only']"
   ]
  },
  {
   "cell_type": "code",
   "execution_count": 85,
   "metadata": {},
   "outputs": [
    {
     "name": "stderr",
     "output_type": "stream",
     "text": [
      "c:\\users\\mikes\\appdata\\local\\programs\\python\\python36\\lib\\site-packages\\ipykernel_launcher.py:1: SettingWithCopyWarning: \n",
      "A value is trying to be set on a copy of a slice from a DataFrame\n",
      "\n",
      "See the caveats in the documentation: http://pandas.pydata.org/pandas-docs/stable/indexing.html#indexing-view-versus-copy\n",
      "  \"\"\"Entry point for launching an IPython kernel.\n",
      "c:\\users\\mikes\\appdata\\local\\programs\\python\\python36\\lib\\site-packages\\pandas\\core\\frame.py:2746: SettingWithCopyWarning: \n",
      "A value is trying to be set on a copy of a slice from a DataFrame\n",
      "\n",
      "See the caveats in the documentation: http://pandas.pydata.org/pandas-docs/stable/indexing.html#indexing-view-versus-copy\n",
      "  **kwargs)\n",
      "c:\\users\\mikes\\appdata\\local\\programs\\python\\python36\\lib\\site-packages\\ipykernel_launcher.py:3: SettingWithCopyWarning: \n",
      "A value is trying to be set on a copy of a slice from a DataFrame.\n",
      "Try using .loc[row_indexer,col_indexer] = value instead\n",
      "\n",
      "See the caveats in the documentation: http://pandas.pydata.org/pandas-docs/stable/indexing.html#indexing-view-versus-copy\n",
      "  This is separate from the ipykernel package so we can avoid doing imports until\n"
     ]
    }
   ],
   "source": [
    "sold_today.drop(['_merge'], axis=1, inplace=True)\n",
    "sold_today.rename(columns={'Price':'Sell_Price'}, inplace=True)\n",
    "sold_today['Sell_Date'] = time_ran.date()"
   ]
  },
  {
   "cell_type": "code",
   "execution_count": 86,
   "metadata": {},
   "outputs": [
    {
     "data": {
      "text/html": [
       "<div>\n",
       "<style>\n",
       "    .dataframe thead tr:only-child th {\n",
       "        text-align: right;\n",
       "    }\n",
       "\n",
       "    .dataframe thead th {\n",
       "        text-align: left;\n",
       "    }\n",
       "\n",
       "    .dataframe tbody tr th {\n",
       "        vertical-align: top;\n",
       "    }\n",
       "</style>\n",
       "<table border=\"1\" class=\"dataframe\">\n",
       "  <thead>\n",
       "    <tr style=\"text-align: right;\">\n",
       "      <th></th>\n",
       "      <th>Title</th>\n",
       "      <th>Description</th>\n",
       "      <th>List_Price</th>\n",
       "      <th>List_Date</th>\n",
       "      <th>Sell_Price</th>\n",
       "      <th>Sell_Date</th>\n",
       "    </tr>\n",
       "  </thead>\n",
       "  <tbody>\n",
       "    <tr>\n",
       "      <th>2</th>\n",
       "      <td>Low Shutter Canon 6D + 50mm 1.8 + Extra Batteries</td>\n",
       "      <td>I have a Canon 6D in great condition with extr...</td>\n",
       "      <td>770.0</td>\n",
       "      <td>6/16/2018</td>\n",
       "      <td>NaN</td>\n",
       "      <td>2018-06-16</td>\n",
       "    </tr>\n",
       "  </tbody>\n",
       "</table>\n",
       "</div>"
      ],
      "text/plain": [
       "                                               Title  \\\n",
       "2  Low Shutter Canon 6D + 50mm 1.8 + Extra Batteries   \n",
       "\n",
       "                                         Description  List_Price  List_Date  \\\n",
       "2  I have a Canon 6D in great condition with extr...       770.0  6/16/2018   \n",
       "\n",
       "   Sell_Price   Sell_Date  \n",
       "2         NaN  2018-06-16  "
      ]
     },
     "execution_count": 86,
     "metadata": {},
     "output_type": "execute_result"
    }
   ],
   "source": [
    "sold_today"
   ]
  },
  {
   "cell_type": "code",
   "execution_count": 93,
   "metadata": {},
   "outputs": [],
   "source": [
    "#Loading the sold items csv\n",
    "sold_items = pd.read_csv('C:/Users/mikes/Documents/Python Scripts/Canon_Scraper/Data_Tables/SoldItems.csv')"
   ]
  },
  {
   "cell_type": "code",
   "execution_count": 96,
   "metadata": {},
   "outputs": [
    {
     "data": {
      "text/html": [
       "<div>\n",
       "<style>\n",
       "    .dataframe thead tr:only-child th {\n",
       "        text-align: right;\n",
       "    }\n",
       "\n",
       "    .dataframe thead th {\n",
       "        text-align: left;\n",
       "    }\n",
       "\n",
       "    .dataframe tbody tr th {\n",
       "        vertical-align: top;\n",
       "    }\n",
       "</style>\n",
       "<table border=\"1\" class=\"dataframe\">\n",
       "  <thead>\n",
       "    <tr style=\"text-align: right;\">\n",
       "      <th></th>\n",
       "      <th>Title</th>\n",
       "      <th>Description</th>\n",
       "      <th>List_Price</th>\n",
       "      <th>List_Date</th>\n",
       "      <th>Sell_Price</th>\n",
       "      <th>Sell_Date</th>\n",
       "    </tr>\n",
       "  </thead>\n",
       "  <tbody>\n",
       "    <tr>\n",
       "      <th>0</th>\n",
       "      <td>Low Shutter Canon 6D + 50mm 1.8 + Extra Batteries</td>\n",
       "      <td>I have a Canon 6D in great condition with extr...</td>\n",
       "      <td>770.0</td>\n",
       "      <td>6/16/2018</td>\n",
       "      <td>NaN</td>\n",
       "      <td>2018-06-16</td>\n",
       "    </tr>\n",
       "    <tr>\n",
       "      <th>2</th>\n",
       "      <td>Low Shutter Canon 6D + 50mm 1.8 + Extra Batteries</td>\n",
       "      <td>I have a Canon 6D in great condition with extr...</td>\n",
       "      <td>770.0</td>\n",
       "      <td>6/16/2018</td>\n",
       "      <td>NaN</td>\n",
       "      <td>2018-06-16</td>\n",
       "    </tr>\n",
       "  </tbody>\n",
       "</table>\n",
       "</div>"
      ],
      "text/plain": [
       "                                               Title  \\\n",
       "0  Low Shutter Canon 6D + 50mm 1.8 + Extra Batteries   \n",
       "2  Low Shutter Canon 6D + 50mm 1.8 + Extra Batteries   \n",
       "\n",
       "                                         Description  List_Price  List_Date  \\\n",
       "0  I have a Canon 6D in great condition with extr...       770.0  6/16/2018   \n",
       "2  I have a Canon 6D in great condition with extr...       770.0  6/16/2018   \n",
       "\n",
       "   Sell_Price   Sell_Date  \n",
       "0         NaN  2018-06-16  \n",
       "2         NaN  2018-06-16  "
      ]
     },
     "execution_count": 96,
     "metadata": {},
     "output_type": "execute_result"
    }
   ],
   "source": [
    "#Adding items sold today to sold_items\n",
    "sold_items = sold_items.append(sold_today)"
   ]
  },
  {
   "cell_type": "code",
   "execution_count": 92,
   "metadata": {},
   "outputs": [],
   "source": [
    "#Writing to the sold items csv\n",
    "sold_items.to_csv('C:/Users/mikes/Documents/Python Scripts/Canon_Scraper/Data_Tables/SoldItems.csv', index=False, encoding='utf-8')"
   ]
  },
  {
   "cell_type": "code",
   "execution_count": 97,
   "metadata": {},
   "outputs": [
    {
     "data": {
      "text/html": [
       "<div>\n",
       "<style>\n",
       "    .dataframe thead tr:only-child th {\n",
       "        text-align: right;\n",
       "    }\n",
       "\n",
       "    .dataframe thead th {\n",
       "        text-align: left;\n",
       "    }\n",
       "\n",
       "    .dataframe tbody tr th {\n",
       "        vertical-align: top;\n",
       "    }\n",
       "</style>\n",
       "<table border=\"1\" class=\"dataframe\">\n",
       "  <thead>\n",
       "    <tr style=\"text-align: right;\">\n",
       "      <th></th>\n",
       "      <th>Title</th>\n",
       "      <th>Description</th>\n",
       "      <th>Price</th>\n",
       "    </tr>\n",
       "  </thead>\n",
       "  <tbody>\n",
       "    <tr>\n",
       "      <th>0</th>\n",
       "      <td>Canon DSLR Lenses</td>\n",
       "      <td>Selling the following lenses all in excellent ...</td>\n",
       "      <td>1000</td>\n",
       "    </tr>\n",
       "    <tr>\n",
       "      <th>1</th>\n",
       "      <td>SIGMA 20mm f/1.4 ART for CANON Wide Angle Came...</td>\n",
       "      <td>I bought this lens brand new from BH on March ...</td>\n",
       "      <td>600</td>\n",
       "    </tr>\n",
       "    <tr>\n",
       "      <th>2</th>\n",
       "      <td>Canon 16-35 F2.8 L II Mint Condition, Flawless</td>\n",
       "      <td>Up for sale is a Canon Canon 16-35 F2.8 L II i...</td>\n",
       "      <td>850</td>\n",
       "    </tr>\n",
       "    <tr>\n",
       "      <th>3</th>\n",
       "      <td>Canon Prime Lens 135mm 2.0</td>\n",
       "      <td>Used but in excellent condition , barely used!...</td>\n",
       "      <td>500</td>\n",
       "    </tr>\n",
       "  </tbody>\n",
       "</table>\n",
       "</div>"
      ],
      "text/plain": [
       "                                               Title  \\\n",
       "0                                  Canon DSLR Lenses   \n",
       "1  SIGMA 20mm f/1.4 ART for CANON Wide Angle Came...   \n",
       "2     Canon 16-35 F2.8 L II Mint Condition, Flawless   \n",
       "3                         Canon Prime Lens 135mm 2.0   \n",
       "\n",
       "                                         Description  Price  \n",
       "0  Selling the following lenses all in excellent ...   1000  \n",
       "1  I bought this lens brand new from BH on March ...    600  \n",
       "2  Up for sale is a Canon Canon 16-35 F2.8 L II i...    850  \n",
       "3  Used but in excellent condition , barely used!...    500  "
      ]
     },
     "execution_count": 97,
     "metadata": {},
     "output_type": "execute_result"
    }
   ],
   "source": [
    "current_listings"
   ]
  },
  {
   "cell_type": "code",
   "execution_count": null,
   "metadata": {},
   "outputs": [],
   "source": []
  },
  {
   "cell_type": "code",
   "execution_count": null,
   "metadata": {},
   "outputs": [],
   "source": []
  },
  {
   "cell_type": "code",
   "execution_count": null,
   "metadata": {},
   "outputs": [],
   "source": []
  },
  {
   "cell_type": "markdown",
   "metadata": {},
   "source": [
    "### Start Here for work 6/9/18"
   ]
  },
  {
   "cell_type": "code",
   "execution_count": null,
   "metadata": {},
   "outputs": [],
   "source": [
    "#Finding rows in yesterdays listings that are also in todays listing\n",
    "common = old_listings[old_listings.columns.difference(['Price'])].merge(current_listings, on=['Title', 'Description'])\n",
    "common"
   ]
  },
  {
   "cell_type": "code",
   "execution_count": null,
   "metadata": {},
   "outputs": [],
   "source": [
    "#Finding the items not already being tracked\n",
    "new_items=(current_listings[(~current_listings.Title.isin(common.Title))])\n",
    "\n",
    "#Adding the list day to new items dataframe\n",
    "new_items['List_Date'] = time_ran.date()\n",
    "\n",
    "#Renaming price to be List Price \n",
    "new_items.rename(columns = {'Price':'List_Price'}, inplace=True)"
   ]
  },
  {
   "cell_type": "code",
   "execution_count": null,
   "metadata": {},
   "outputs": [],
   "source": [
    "new_items"
   ]
  },
  {
   "cell_type": "code",
   "execution_count": null,
   "metadata": {},
   "outputs": [],
   "source": [
    "#Writing the listings to csv to be used tomorrow\n",
    "new_items.to_csv('C:/Users/mikes/Documents/Python Scripts/Canon_Scraper/Data_Tables/CanonCurrentListings.csv', index=False, encoding='utf-8')"
   ]
  },
  {
   "cell_type": "markdown",
   "metadata": {},
   "source": [
    "## Start of Visuals"
   ]
  },
  {
   "cell_type": "code",
   "execution_count": null,
   "metadata": {},
   "outputs": [],
   "source": [
    "#Joining descriptions for a wordcloud\n",
    "s = ''\n",
    "for item in dailyitems:\n",
    "    s += item[2]\n",
    "# print(s)\n",
    "# wordcloud = WordCloud().generate(s)\n",
    "# plt.imshow(wordcloud, interpolation='bilinear')\n",
    "# plt.axis(\"off\")\n",
    "# # lower max_font_size\n",
    "# wordcloud = WordCloud(max_font_size=40).generate(text)\n",
    "# plt.figure()\n",
    "# plt.imshow(wordcloud, interpolation=\"bilinear\")\n",
    "# plt.axis(\"off\")\n",
    "# plt.show()"
   ]
  },
  {
   "cell_type": "code",
   "execution_count": null,
   "metadata": {},
   "outputs": [],
   "source": [
    "#Making an image in the shape of the camera\n",
    "# read the mask image\n",
    "col = Image.open(\"/Users/mikes/Documents/GetawayDevelopment/camera.jpg\")\n",
    "gray = col.convert('L')\n",
    "bw = gray.point(lambda x: 0 if x<230 else 255, '1')\n",
    "bw.save(\"/Users/mikes/Documents/GetawayDevelopment/camera_mask.jpg\")\n",
    "\n",
    "camera_mask = np.array(Image.open(\"/Users/mikes/Documents/GetawayDevelopment/camera_mask.jpg\"))\n",
    "\n",
    "wc = WordCloud(background_color=\"white\", max_words=2000, mask=camera_mask)\n",
    "# generate word cloud\n",
    "wc.generate(s)\n",
    "\n",
    "# store to file\n",
    "wc.to_file(\"/Users/mikes/Documents/GetawayDevelopment/canon.jpg\")\n",
    "\n",
    "# show\n",
    "plt.imshow(wc, interpolation='bilinear')\n",
    "plt.axis(\"off\")\n",
    "plt.figure()\n",
    "\n",
    "#This plots the grey-scale camera\n",
    "plt.imshow(camera_mask, cmap='gray', interpolation='bilinear')\n",
    "plt.axis(\"off\")\n",
    "plt.show()"
   ]
  },
  {
   "cell_type": "code",
   "execution_count": null,
   "metadata": {},
   "outputs": [],
   "source": [
    "df.Price.std()"
   ]
  },
  {
   "cell_type": "code",
   "execution_count": null,
   "metadata": {},
   "outputs": [],
   "source": [
    "#Accessing the price dataframe\n",
    "#df.Price = df.Price.str.replace(\"$\", \"\") !PROBABLY SHOULDN\"T BE COMMENTED OUT!!!!\n",
    "df.Price = pd.to_numeric(df.Price)\n",
    "df"
   ]
  },
  {
   "cell_type": "code",
   "execution_count": null,
   "metadata": {},
   "outputs": [],
   "source": [
    "import plotly.plotly as py\n",
    "from plotly.graph_objs import *\n",
    "\n",
    "data = [Bar(x=df.Title, y = df.Price)]\n",
    "py.iplot(data)"
   ]
  },
  {
   "cell_type": "code",
   "execution_count": null,
   "metadata": {},
   "outputs": [],
   "source": []
  }
 ],
 "metadata": {
  "kernelspec": {
   "display_name": "Python 3",
   "language": "python",
   "name": "python3"
  },
  "language_info": {
   "codemirror_mode": {
    "name": "ipython",
    "version": 3
   },
   "file_extension": ".py",
   "mimetype": "text/x-python",
   "name": "python",
   "nbconvert_exporter": "python",
   "pygments_lexer": "ipython3",
   "version": "3.6.4"
  }
 },
 "nbformat": 4,
 "nbformat_minor": 2
}
