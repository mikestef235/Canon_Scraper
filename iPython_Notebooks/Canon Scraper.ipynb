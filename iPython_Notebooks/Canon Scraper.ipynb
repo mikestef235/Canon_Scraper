{
 "cells": [
  {
   "cell_type": "markdown",
   "metadata": {},
   "source": [
    "# Canon DLSR Scraper"
   ]
  },
  {
   "cell_type": "markdown",
   "metadata": {},
   "source": [
    "### Importing Libraries"
   ]
  },
  {
   "cell_type": "code",
   "execution_count": 1,
   "metadata": {},
   "outputs": [],
   "source": [
    "from selenium import webdriver\n",
    "from selenium.webdriver.common.keys import Keys\n",
    "from bs4 import BeautifulSoup\n",
    "from more_itertools import unique_everseen\n",
    "from pprint import pprint\n",
    "from wordcloud import WordCloud\n",
    "from PIL import Image\n",
    "import numpy as np\n",
    "import matplotlib.pyplot as plt\n",
    "import pandas as pd \n",
    "from collections import OrderedDict\n",
    "from datetime import date\n",
    "import time\n",
    "import csv\n",
    "import datetime as dt\n",
    "import warnings\n",
    "from fuzzywuzzy import fuzz\n",
    "warnings.filterwarnings('ignore')"
   ]
  },
  {
   "cell_type": "markdown",
   "metadata": {},
   "source": [
    "### Starting the WebDriver"
   ]
  },
  {
   "cell_type": "code",
   "execution_count": 2,
   "metadata": {},
   "outputs": [],
   "source": [
    "#Starting the driver and finding the query element\n",
    "driver = webdriver.Chrome()\n",
    "driver.get(\"https://washingtondc.craigslist.org/nva\")\n",
    "search = driver.find_element_by_id(\"query\")"
   ]
  },
  {
   "cell_type": "code",
   "execution_count": 3,
   "metadata": {},
   "outputs": [],
   "source": [
    "#Inputing the search keyword\n",
    "search.send_keys(\"Canon\")\n",
    "search.send_keys(Keys.ENTER)"
   ]
  },
  {
   "cell_type": "code",
   "execution_count": 4,
   "metadata": {},
   "outputs": [],
   "source": [
    "#Selecting the photo/video and electronics cateories\n",
    "driver.find_element_by_css_selector('input.catcheck.selectallcb').click()\n",
    "driver.find_element_by_css_selector(\".catcheck.multi_checkbox[id='cat_pha']\").click()\n",
    "driver.find_element_by_css_selector(\".catcheck.multi_checkbox[id='cat_ela']\").click()\n",
    "driver.find_element_by_css_selector(\"button.searchlink.linklike.changed_input.clickme\").click()\n",
    "\n",
    "#Bundling duplicates, requiring pictures, not including nearby searches\n",
    "driver.find_element_by_name(\"bundleDuplicates\").click()\n",
    "driver.find_element_by_name(\"hasPic\").click()"
   ]
  },
  {
   "cell_type": "code",
   "execution_count": 5,
   "metadata": {},
   "outputs": [],
   "source": [
    "#Inputing the min and max price\n",
    "minP = driver.find_element_by_name(\"min_price\")\n",
    "minP.send_keys(500)\n",
    "time.sleep(1)\n",
    "maxP = driver.find_element_by_name(\"max_price\")\n",
    "maxP.send_keys(1500)\n",
    "maxP.send_keys(Keys.ENTER)"
   ]
  },
  {
   "cell_type": "markdown",
   "metadata": {},
   "source": [
    "### Gathering Eligible Links"
   ]
  },
  {
   "cell_type": "code",
   "execution_count": 6,
   "metadata": {},
   "outputs": [],
   "source": [
    "#Prepping for beautiful soup\n",
    "html = driver.page_source\n",
    "soup = BeautifulSoup(html, \"html.parser\")"
   ]
  },
  {
   "cell_type": "code",
   "execution_count": 7,
   "metadata": {},
   "outputs": [],
   "source": [
    "#Going through all content divs and finding the links\n",
    "nduplinks = []\n",
    "duplinks=[] \n",
    "\n",
    "#Finding the non duplicated results\n",
    "nonDups = soup.findAll('li', {'class': 'result-row'})\n",
    "for item in nonDups:\n",
    "    nduplinks.append(item.find('a').get('href'))\n",
    "    \n",
    "#Finding the duplicated results\n",
    "dups = soup.findAll('ul', {'class': 'duplicate-rows'})\n",
    "for item in dups:\n",
    "    duplinks.append(item.find('a').get('href'))"
   ]
  },
  {
   "cell_type": "code",
   "execution_count": 8,
   "metadata": {},
   "outputs": [],
   "source": [
    "#Removing the duplicates, returning the links list\n",
    "links = [x for x in nduplinks if x not in duplinks]\n",
    "\n",
    "#Removing duplicate links due to pictures and titles both being the same\n",
    "links = list(unique_everseen(links))\n",
    "while \"#\" in links:\n",
    "    links.remove(\"#\")"
   ]
  },
  {
   "cell_type": "code",
   "execution_count": 9,
   "metadata": {},
   "outputs": [],
   "source": [
    "#Clicking into the item links\n",
    "count = 0\n",
    "dailyitems=[]\n",
    "itemDict = []\n",
    "for link in links:\n",
    "    #Clicking the item link\n",
    "    link = '\"'+link+'\"'\n",
    "    element = driver.find_element_by_xpath('//a[@href=%s]' %link)\n",
    "    driver.execute_script('arguments[0].click();', element)\n",
    "\n",
    "    #Getting the item html for beautiful soup\n",
    "    html = driver.page_source\n",
    "    soup = BeautifulSoup(html, \"html.parser\")\n",
    "    \n",
    "    #Getting the item price and title\n",
    "    price = soup.find('span', {'class': 'price'}).get_text()\n",
    "    title = soup.find('span', {'id': 'titletextonly'}).get_text()\n",
    "    \n",
    "    #Getting the item text\n",
    "    text = soup.find('section', {'id':'postingbody'}).get_text()\n",
    "    while \"\\n\" in text:\n",
    "        text = text.replace(\"\\n\", \"\")\n",
    "    while \"QR Code Link to This Post\" in text:\n",
    "        text = text.replace(\"QR Code Link to This Post\", \"\")\n",
    "    itemD = {\"Title\":title, \"Price\":price, \"Description\":text}\n",
    "\n",
    "    #Making a list of dictionaries\n",
    "    itemDict.append(itemD)\n",
    "\n",
    "    #Adding to a list\n",
    "    dailyitems.append([itemD['Title'], itemD['Price'], itemD['Description']])\n",
    "    count += 1\n",
    "    driver.back()"
   ]
  },
  {
   "cell_type": "code",
   "execution_count": 10,
   "metadata": {},
   "outputs": [],
   "source": [
    "#Outputting the results array item by item\n",
    "driver.close()\n",
    "\n",
    "#Creating a dataframe of the items\n",
    "current_listings = pd.DataFrame(itemDict)"
   ]
  },
  {
   "cell_type": "code",
   "execution_count": 11,
   "metadata": {},
   "outputs": [],
   "source": [
    "#Removing the dollar sign in current listings:\n",
    "if current_listings.Price.dtypes.name != 'int64':\n",
    "    current_listings['Price'] = pd.to_numeric(current_listings['Price'].str.replace('$', ''))\n",
    "\n",
    "#Outputting current listings\n",
    "current_listings = current_listings[['Title', 'Description', 'Price']]"
   ]
  },
  {
   "cell_type": "code",
   "execution_count": 12,
   "metadata": {},
   "outputs": [],
   "source": [
    "#Recording the Time the Script Finished Crawling\n",
    "time_ran = dt.datetime.now()"
   ]
  },
  {
   "cell_type": "markdown",
   "metadata": {},
   "source": [
    "# Update Current Listings and Sold Items"
   ]
  },
  {
   "cell_type": "markdown",
   "metadata": {},
   "source": [
    "### Read in Current Listings from Yesterday"
   ]
  },
  {
   "cell_type": "code",
   "execution_count": 13,
   "metadata": {},
   "outputs": [],
   "source": [
    "#Loading the listings from the day before (Dataframe1)\n",
    "old_listings = pd.read_csv('C:/Users/mikes/Documents/Python Scripts/Canon_Scraper/Data_Tables/CanonCurrentListings.csv')"
   ]
  },
  {
   "cell_type": "markdown",
   "metadata": {},
   "source": [
    "### Merge Yesterday's and Today's Listings With the Same Title and Description"
   ]
  },
  {
   "cell_type": "code",
   "execution_count": 14,
   "metadata": {},
   "outputs": [],
   "source": [
    "common = old_listings.merge(current_listings, on=['Title', 'Description'])\n",
    "common['Current_Price'] = common['Price']\n",
    "common.drop('Price', axis=1, inplace=True)"
   ]
  },
  {
   "cell_type": "markdown",
   "metadata": {},
   "source": [
    "### Consider Cases Where the Description Has Been Changed Slightly"
   ]
  },
  {
   "cell_type": "code",
   "execution_count": 15,
   "metadata": {},
   "outputs": [],
   "source": [
    "#Finding today's listings not perfectly matched in yesterdays listings\n",
    "compDF = current_listings.merge(old_listings, indicator=True, how='outer', on=['Title', 'Description'])\n",
    "only_today = compDF[compDF['_merge'] == 'left_only']\n",
    "\n",
    "#Finding items in yesterdays listings not perfectly matched in todays listings\n",
    "only_old = compDF[compDF['_merge'] == 'right_only']"
   ]
  },
  {
   "cell_type": "markdown",
   "metadata": {},
   "source": [
    "For each item that is only in yesterdays listings, we need to compare the similarity of description to every item that is only in today's listing. If the fuzz ratio is greater than 85 (out of 100), we will consider the items a match and merge the old and new values.  "
   ]
  },
  {
   "cell_type": "code",
   "execution_count": 16,
   "metadata": {},
   "outputs": [],
   "source": [
    "#Storing the matched listings between today and old only\n",
    "cols = ['Current_Price','Description','List_Date','List_Price','Title']\n",
    "matches = pd.DataFrame(columns=cols)\n",
    "\n",
    "#Performing the matching\n",
    "for old_index, old_row in only_old.iterrows():\n",
    "    for new_index, new_row in only_today.iterrows():\n",
    "        if fuzz.ratio(old_row.Description, new_row.Description) > 85:\n",
    "            #Add listing to matches dataframe\n",
    "            matches = matches.append({'Current_Price':new_row.Price, \n",
    "                            'Description':new_row.Description, \n",
    "                            'List_Date':old_row.List_Date,\n",
    "                            'List_Price':old_row.List_Price, \n",
    "                            'Title':new_row.Title}, ignore_index=True)\n",
    "            \n",
    "            #Remove item from old_only\n",
    "            only_old = only_old[~(only_old.Description == old_row.Description)]\n",
    "            \n",
    "            #Remove item from new_only\n",
    "            only_today = only_today[~(only_today.Description == new_row.Description)]\n",
    "         \n",
    "            #Break out of the inner looping\n",
    "            break"
   ]
  },
  {
   "cell_type": "code",
   "execution_count": 17,
   "metadata": {},
   "outputs": [],
   "source": [
    "#Add the matches to the common listings\n",
    "common = common.append(matches)"
   ]
  },
  {
   "cell_type": "markdown",
   "metadata": {},
   "source": [
    "### Adding New Items to Current Listings"
   ]
  },
  {
   "cell_type": "code",
   "execution_count": 18,
   "metadata": {},
   "outputs": [],
   "source": [
    "#Adding the list day to new items dataframe\n",
    "new_items = only_today[['Title', 'Description', 'Price']]\n",
    "\n",
    "new_items['List_Date'] = time_ran.date()\n",
    "\n",
    "#Renaming price to be List Price \n",
    "new_items.rename(columns = {'Price':'List_Price'}, inplace=True)\n",
    "\n",
    "#Reflect the Current Price to be equal to the list price\n",
    "new_items['Current_Price'] = new_items['List_Price']\n",
    "\n",
    "#Adding new items to the common listings\n",
    "today_listings = common.append(new_items)"
   ]
  },
  {
   "cell_type": "code",
   "execution_count": 19,
   "metadata": {},
   "outputs": [],
   "source": [
    "#Writing the listings to csv to be used tomorrow\n",
    "today_listings.to_csv('C:/Users/mikes/Documents/Python Scripts/Canon_Scraper/Data_Tables/CanonCurrentListings.csv', index=False, encoding='utf-8')"
   ]
  },
  {
   "cell_type": "markdown",
   "metadata": {},
   "source": [
    "### Addding Items Sold Today to Sold Items"
   ]
  },
  {
   "cell_type": "code",
   "execution_count": 20,
   "metadata": {},
   "outputs": [],
   "source": [
    "sold_today = only_old\n",
    "\n",
    "#Updating the historical table of sold items\n",
    "if sold_today.shape[0] != 0:\n",
    "    sold_today.drop(['_merge', 'Price'], axis=1, inplace=True)\n",
    "    sold_today.rename(columns={'Current_Price':'Sell_Price'}, inplace=True)\n",
    "    sold_today['Sell_Date'] = time_ran.date()\n",
    "    \n",
    "    #Loading the sold items csv\n",
    "    sold_items = pd.read_csv('C:/Users/mikes/Documents/Python Scripts/Canon_Scraper/Data_Tables/SoldItems.csv')\n",
    "    \n",
    "    #Adding items sold today to sold_items\n",
    "    sold_items = sold_items.append(sold_today)\n",
    "    \n",
    "    #Writing to the sold items csv\n",
    "    sold_items.to_csv('C:/Users/mikes/Documents/Python Scripts/Canon_Scraper/Data_Tables/SoldItems.csv', index=False, encoding='utf-8')"
   ]
  },
  {
   "cell_type": "markdown",
   "metadata": {},
   "source": [
    "### Items Available That Have Dropped From List_Price"
   ]
  },
  {
   "cell_type": "code",
   "execution_count": 21,
   "metadata": {},
   "outputs": [
    {
     "data": {
      "text/html": [
       "<div>\n",
       "<style>\n",
       "    .dataframe thead tr:only-child th {\n",
       "        text-align: right;\n",
       "    }\n",
       "\n",
       "    .dataframe thead th {\n",
       "        text-align: left;\n",
       "    }\n",
       "\n",
       "    .dataframe tbody tr th {\n",
       "        vertical-align: top;\n",
       "    }\n",
       "</style>\n",
       "<table border=\"1\" class=\"dataframe\">\n",
       "  <thead>\n",
       "    <tr style=\"text-align: right;\">\n",
       "      <th></th>\n",
       "      <th>Current_Price</th>\n",
       "      <th>Description</th>\n",
       "      <th>List_Date</th>\n",
       "      <th>List_Price</th>\n",
       "      <th>Title</th>\n",
       "    </tr>\n",
       "  </thead>\n",
       "  <tbody>\n",
       "    <tr>\n",
       "      <th>0</th>\n",
       "      <td>550</td>\n",
       "      <td>Canon EOS 700D + EF-S 18-55mm Excellent condit...</td>\n",
       "      <td>2018-06-24</td>\n",
       "      <td>570.0</td>\n",
       "      <td>Canon EOS 700 D with EF-S 18-55mm</td>\n",
       "    </tr>\n",
       "    <tr>\n",
       "      <th>3</th>\n",
       "      <td>525</td>\n",
       "      <td>Sigma 80-400mm Telephoto Lens f/4.5-5.6 EX DG ...</td>\n",
       "      <td>2018-06-24</td>\n",
       "      <td>550.0</td>\n",
       "      <td>Sigma 80-400mm f/4.5-5.6 EX DG APO OS for Cano...</td>\n",
       "    </tr>\n",
       "    <tr>\n",
       "      <th>6</th>\n",
       "      <td>800</td>\n",
       "      <td>Selling Sony A7 full frame mirrorless camera w...</td>\n",
       "      <td>2018-06-24</td>\n",
       "      <td>750.0</td>\n",
       "      <td>Sony a7 with 4 Batteries</td>\n",
       "    </tr>\n",
       "    <tr>\n",
       "      <th>37</th>\n",
       "      <td>750</td>\n",
       "      <td>For sale :  Canon eos 1d Mark IV camera body. ...</td>\n",
       "      <td>2018-06-24</td>\n",
       "      <td>775.0</td>\n",
       "      <td>Canon EOS 1D Mark IV</td>\n",
       "    </tr>\n",
       "    <tr>\n",
       "      <th>49</th>\n",
       "      <td>1199</td>\n",
       "      <td>The glass is flawless, had a protective filter...</td>\n",
       "      <td>2018-06-28</td>\n",
       "      <td>1299.0</td>\n",
       "      <td>Canon EF 24-70mm f/2.8L II USM Lens</td>\n",
       "    </tr>\n",
       "    <tr>\n",
       "      <th>50</th>\n",
       "      <td>759</td>\n",
       "      <td>The glass is flawless, had a protective filter...</td>\n",
       "      <td>2018-06-28</td>\n",
       "      <td>799.0</td>\n",
       "      <td>Canon EF 24mm f/1.4L II USM Lens</td>\n",
       "    </tr>\n",
       "    <tr>\n",
       "      <th>53</th>\n",
       "      <td>600</td>\n",
       "      <td>Canon EOS 60D DSLR camera plus kit lens. 18-13...</td>\n",
       "      <td>2018-06-29</td>\n",
       "      <td>700.0</td>\n",
       "      <td>Canon EOS 60D body plus 18-135mm lens</td>\n",
       "    </tr>\n",
       "    <tr>\n",
       "      <th>70</th>\n",
       "      <td>815</td>\n",
       "      <td>Selling my Canon EF 400mm f/5.6 prime lens.  T...</td>\n",
       "      <td>2018-06-27</td>\n",
       "      <td>825.0</td>\n",
       "      <td>Canon 400mm F/5.6 Lens</td>\n",
       "    </tr>\n",
       "    <tr>\n",
       "      <th>72</th>\n",
       "      <td>750</td>\n",
       "      <td>Canon 16-35ii 2.8L lens excellent condition,ca...</td>\n",
       "      <td>2018-07-02</td>\n",
       "      <td>795.0</td>\n",
       "      <td>Canon</td>\n",
       "    </tr>\n",
       "    <tr>\n",
       "      <th>80</th>\n",
       "      <td>500</td>\n",
       "      <td>The EOS Rebel T6i is a Digital SLR camera with...</td>\n",
       "      <td>2018-07-04</td>\n",
       "      <td>550.0</td>\n",
       "      <td>Canon EOS Rebel T6i DSLR Camera with 18-55mm lens</td>\n",
       "    </tr>\n",
       "    <tr>\n",
       "      <th>83</th>\n",
       "      <td>700</td>\n",
       "      <td>Canon digital SLR camera  Trades= sharp quattr...</td>\n",
       "      <td>2018-07-05</td>\n",
       "      <td>650.0</td>\n",
       "      <td>Canon digital SLR</td>\n",
       "    </tr>\n",
       "    <tr>\n",
       "      <th>88</th>\n",
       "      <td>500</td>\n",
       "      <td>Photography equipment in new/unused condition....</td>\n",
       "      <td>2018-06-30</td>\n",
       "      <td>800.0</td>\n",
       "      <td>Photography equipment</td>\n",
       "    </tr>\n",
       "  </tbody>\n",
       "</table>\n",
       "</div>"
      ],
      "text/plain": [
       "   Current_Price                                        Description  \\\n",
       "0            550  Canon EOS 700D + EF-S 18-55mm Excellent condit...   \n",
       "3            525  Sigma 80-400mm Telephoto Lens f/4.5-5.6 EX DG ...   \n",
       "6            800  Selling Sony A7 full frame mirrorless camera w...   \n",
       "37           750  For sale :  Canon eos 1d Mark IV camera body. ...   \n",
       "49          1199  The glass is flawless, had a protective filter...   \n",
       "50           759  The glass is flawless, had a protective filter...   \n",
       "53           600  Canon EOS 60D DSLR camera plus kit lens. 18-13...   \n",
       "70           815  Selling my Canon EF 400mm f/5.6 prime lens.  T...   \n",
       "72           750  Canon 16-35ii 2.8L lens excellent condition,ca...   \n",
       "80           500  The EOS Rebel T6i is a Digital SLR camera with...   \n",
       "83           700  Canon digital SLR camera  Trades= sharp quattr...   \n",
       "88           500  Photography equipment in new/unused condition....   \n",
       "\n",
       "     List_Date  List_Price                                              Title  \n",
       "0   2018-06-24       570.0                  Canon EOS 700 D with EF-S 18-55mm  \n",
       "3   2018-06-24       550.0  Sigma 80-400mm f/4.5-5.6 EX DG APO OS for Cano...  \n",
       "6   2018-06-24       750.0                           Sony a7 with 4 Batteries  \n",
       "37  2018-06-24       775.0                               Canon EOS 1D Mark IV  \n",
       "49  2018-06-28      1299.0                Canon EF 24-70mm f/2.8L II USM Lens  \n",
       "50  2018-06-28       799.0                   Canon EF 24mm f/1.4L II USM Lens  \n",
       "53  2018-06-29       700.0              Canon EOS 60D body plus 18-135mm lens  \n",
       "70  2018-06-27       825.0                             Canon 400mm F/5.6 Lens  \n",
       "72  2018-07-02       795.0                                              Canon  \n",
       "80  2018-07-04       550.0  Canon EOS Rebel T6i DSLR Camera with 18-55mm lens  \n",
       "83  2018-07-05       650.0                                  Canon digital SLR  \n",
       "88  2018-06-30       800.0                              Photography equipment  "
      ]
     },
     "execution_count": 21,
     "metadata": {},
     "output_type": "execute_result"
    }
   ],
   "source": [
    "today_listings[today_listings['List_Price'] != today_listings['Current_Price']]"
   ]
  },
  {
   "cell_type": "markdown",
   "metadata": {},
   "source": [
    "### Items Sold Today"
   ]
  },
  {
   "cell_type": "code",
   "execution_count": 22,
   "metadata": {},
   "outputs": [
    {
     "data": {
      "text/html": [
       "<div>\n",
       "<style>\n",
       "    .dataframe thead tr:only-child th {\n",
       "        text-align: right;\n",
       "    }\n",
       "\n",
       "    .dataframe thead th {\n",
       "        text-align: left;\n",
       "    }\n",
       "\n",
       "    .dataframe tbody tr th {\n",
       "        vertical-align: top;\n",
       "    }\n",
       "</style>\n",
       "<table border=\"1\" class=\"dataframe\">\n",
       "  <thead>\n",
       "    <tr style=\"text-align: right;\">\n",
       "      <th></th>\n",
       "      <th>Title</th>\n",
       "      <th>Description</th>\n",
       "      <th>Sell_Price</th>\n",
       "      <th>List_Date</th>\n",
       "      <th>List_Price</th>\n",
       "      <th>Sell_Date</th>\n",
       "    </tr>\n",
       "  </thead>\n",
       "  <tbody>\n",
       "    <tr>\n",
       "      <th>111</th>\n",
       "      <td>Canon Macro Lens EF 100mm f/2.8 L IS USM</td>\n",
       "      <td>Canon Macro Lens EF 100mm f/2.8 L IS USM: $700...</td>\n",
       "      <td>650.0</td>\n",
       "      <td>2018-06-24</td>\n",
       "      <td>700.0</td>\n",
       "      <td>2018-07-07</td>\n",
       "    </tr>\n",
       "    <tr>\n",
       "      <th>112</th>\n",
       "      <td>For Canon: Sigma A 24-35mm f/2 DG HSM</td>\n",
       "      <td>I am switching to Sony and have the following ...</td>\n",
       "      <td>700.0</td>\n",
       "      <td>2018-06-24</td>\n",
       "      <td>700.0</td>\n",
       "      <td>2018-07-07</td>\n",
       "    </tr>\n",
       "    <tr>\n",
       "      <th>113</th>\n",
       "      <td>Canon EF 100-400mm f/4.5-5.6L IS USM Lens</td>\n",
       "      <td>I'm selling my first gen Canon 100-400mm telep...</td>\n",
       "      <td>750.0</td>\n",
       "      <td>2018-06-24</td>\n",
       "      <td>800.0</td>\n",
       "      <td>2018-07-07</td>\n",
       "    </tr>\n",
       "    <tr>\n",
       "      <th>114</th>\n",
       "      <td>Canon EF 85mm f/1.2 L II AF USM Lens + FREE UV...</td>\n",
       "      <td>I am selling my Canon EF 85mm f/1.2 L II AF US...</td>\n",
       "      <td>1499.0</td>\n",
       "      <td>2018-06-29</td>\n",
       "      <td>1499.0</td>\n",
       "      <td>2018-07-07</td>\n",
       "    </tr>\n",
       "    <tr>\n",
       "      <th>115</th>\n",
       "      <td>Canon EF 100mm f/2.8 L IS USM Lens (LIKE NEW)</td>\n",
       "      <td>I am selling my Canon EF 100mm f/2.8L Macro IS...</td>\n",
       "      <td>649.0</td>\n",
       "      <td>2018-06-29</td>\n",
       "      <td>649.0</td>\n",
       "      <td>2018-07-07</td>\n",
       "    </tr>\n",
       "    <tr>\n",
       "      <th>116</th>\n",
       "      <td>Canon EF 24mm f/1.4 II EF L USM (LIKE NEW)</td>\n",
       "      <td>I am selling my Canon EF 24mm f/1.4 II EF L US...</td>\n",
       "      <td>1299.0</td>\n",
       "      <td>2018-06-29</td>\n",
       "      <td>1299.0</td>\n",
       "      <td>2018-07-07</td>\n",
       "    </tr>\n",
       "    <tr>\n",
       "      <th>117</th>\n",
       "      <td>Canon 6D Body in Excellent Condition!!</td>\n",
       "      <td>Up for sale is a Canon 6D body! This is an ama...</td>\n",
       "      <td>800.0</td>\n",
       "      <td>2018-07-02</td>\n",
       "      <td>800.0</td>\n",
       "      <td>2018-07-07</td>\n",
       "    </tr>\n",
       "    <tr>\n",
       "      <th>118</th>\n",
       "      <td>Canon Plotter IPF820 Pro</td>\n",
       "      <td>We are selling a Canon plotter, it's in great ...</td>\n",
       "      <td>650.0</td>\n",
       "      <td>2018-07-05</td>\n",
       "      <td>650.0</td>\n",
       "      <td>2018-07-07</td>\n",
       "    </tr>\n",
       "  </tbody>\n",
       "</table>\n",
       "</div>"
      ],
      "text/plain": [
       "                                                 Title  \\\n",
       "111           Canon Macro Lens EF 100mm f/2.8 L IS USM   \n",
       "112              For Canon: Sigma A 24-35mm f/2 DG HSM   \n",
       "113          Canon EF 100-400mm f/4.5-5.6L IS USM Lens   \n",
       "114  Canon EF 85mm f/1.2 L II AF USM Lens + FREE UV...   \n",
       "115      Canon EF 100mm f/2.8 L IS USM Lens (LIKE NEW)   \n",
       "116         Canon EF 24mm f/1.4 II EF L USM (LIKE NEW)   \n",
       "117             Canon 6D Body in Excellent Condition!!   \n",
       "118                           Canon Plotter IPF820 Pro   \n",
       "\n",
       "                                           Description  Sell_Price  \\\n",
       "111  Canon Macro Lens EF 100mm f/2.8 L IS USM: $700...       650.0   \n",
       "112  I am switching to Sony and have the following ...       700.0   \n",
       "113  I'm selling my first gen Canon 100-400mm telep...       750.0   \n",
       "114  I am selling my Canon EF 85mm f/1.2 L II AF US...      1499.0   \n",
       "115  I am selling my Canon EF 100mm f/2.8L Macro IS...       649.0   \n",
       "116  I am selling my Canon EF 24mm f/1.4 II EF L US...      1299.0   \n",
       "117  Up for sale is a Canon 6D body! This is an ama...       800.0   \n",
       "118  We are selling a Canon plotter, it's in great ...       650.0   \n",
       "\n",
       "      List_Date  List_Price   Sell_Date  \n",
       "111  2018-06-24       700.0  2018-07-07  \n",
       "112  2018-06-24       700.0  2018-07-07  \n",
       "113  2018-06-24       800.0  2018-07-07  \n",
       "114  2018-06-29      1499.0  2018-07-07  \n",
       "115  2018-06-29       649.0  2018-07-07  \n",
       "116  2018-06-29      1299.0  2018-07-07  \n",
       "117  2018-07-02       800.0  2018-07-07  \n",
       "118  2018-07-05       650.0  2018-07-07  "
      ]
     },
     "execution_count": 22,
     "metadata": {},
     "output_type": "execute_result"
    }
   ],
   "source": [
    "sold_today"
   ]
  },
  {
   "cell_type": "markdown",
   "metadata": {},
   "source": [
    "### New Items Today"
   ]
  },
  {
   "cell_type": "code",
   "execution_count": 23,
   "metadata": {},
   "outputs": [
    {
     "data": {
      "text/html": [
       "<div>\n",
       "<style>\n",
       "    .dataframe thead tr:only-child th {\n",
       "        text-align: right;\n",
       "    }\n",
       "\n",
       "    .dataframe thead th {\n",
       "        text-align: left;\n",
       "    }\n",
       "\n",
       "    .dataframe tbody tr th {\n",
       "        vertical-align: top;\n",
       "    }\n",
       "</style>\n",
       "<table border=\"1\" class=\"dataframe\">\n",
       "  <thead>\n",
       "    <tr style=\"text-align: right;\">\n",
       "      <th></th>\n",
       "      <th>Title</th>\n",
       "      <th>Description</th>\n",
       "      <th>List_Price</th>\n",
       "      <th>List_Date</th>\n",
       "      <th>Current_Price</th>\n",
       "    </tr>\n",
       "  </thead>\n",
       "  <tbody>\n",
       "    <tr>\n",
       "      <th>0</th>\n",
       "      <td>Excellent Condition Canon 70D Bundle</td>\n",
       "      <td>Selling my gently loved, excellent condition C...</td>\n",
       "      <td>1250.0</td>\n",
       "      <td>2018-07-07</td>\n",
       "      <td>1250.0</td>\n",
       "    </tr>\n",
       "    <tr>\n",
       "      <th>5</th>\n",
       "      <td>Canon 70-200mm f/4 IS L</td>\n",
       "      <td>Like new condition.  Works great, but I never ...</td>\n",
       "      <td>750.0</td>\n",
       "      <td>2018-07-07</td>\n",
       "      <td>750.0</td>\n",
       "    </tr>\n",
       "    <tr>\n",
       "      <th>24</th>\n",
       "      <td>Canon Macro Lens EF 100mm f/2.8 L IS USM</td>\n",
       "      <td>Canon Macro Lens EF 100mm f/2.8 L IS USM: $675...</td>\n",
       "      <td>675.0</td>\n",
       "      <td>2018-07-07</td>\n",
       "      <td>675.0</td>\n",
       "    </tr>\n",
       "    <tr>\n",
       "      <th>27</th>\n",
       "      <td>Canon digital SLR 400D bag plus accessories</td>\n",
       "      <td>Canon digital SLR camera 400D   Trades= sharp ...</td>\n",
       "      <td>700.0</td>\n",
       "      <td>2018-07-07</td>\n",
       "      <td>700.0</td>\n",
       "    </tr>\n",
       "    <tr>\n",
       "      <th>40</th>\n",
       "      <td>Subal Underwater Video Photo Dive Camera Housi...</td>\n",
       "      <td>Rated for depths to 230 feet / 70 meters, so w...</td>\n",
       "      <td>1400.0</td>\n",
       "      <td>2018-07-07</td>\n",
       "      <td>1400.0</td>\n",
       "    </tr>\n",
       "    <tr>\n",
       "      <th>107</th>\n",
       "      <td>CAMERA Canon EOS Rebel T5</td>\n",
       "      <td>Like New. Used 2 TimesCanon EOS Rebel T5. With...</td>\n",
       "      <td>550.0</td>\n",
       "      <td>2018-07-07</td>\n",
       "      <td>550.0</td>\n",
       "    </tr>\n",
       "  </tbody>\n",
       "</table>\n",
       "</div>"
      ],
      "text/plain": [
       "                                                 Title  \\\n",
       "0                 Excellent Condition Canon 70D Bundle   \n",
       "5                              Canon 70-200mm f/4 IS L   \n",
       "24            Canon Macro Lens EF 100mm f/2.8 L IS USM   \n",
       "27         Canon digital SLR 400D bag plus accessories   \n",
       "40   Subal Underwater Video Photo Dive Camera Housi...   \n",
       "107                          CAMERA Canon EOS Rebel T5   \n",
       "\n",
       "                                           Description  List_Price  \\\n",
       "0    Selling my gently loved, excellent condition C...      1250.0   \n",
       "5    Like new condition.  Works great, but I never ...       750.0   \n",
       "24   Canon Macro Lens EF 100mm f/2.8 L IS USM: $675...       675.0   \n",
       "27   Canon digital SLR camera 400D   Trades= sharp ...       700.0   \n",
       "40   Rated for depths to 230 feet / 70 meters, so w...      1400.0   \n",
       "107  Like New. Used 2 TimesCanon EOS Rebel T5. With...       550.0   \n",
       "\n",
       "      List_Date  Current_Price  \n",
       "0    2018-07-07         1250.0  \n",
       "5    2018-07-07          750.0  \n",
       "24   2018-07-07          675.0  \n",
       "27   2018-07-07          700.0  \n",
       "40   2018-07-07         1400.0  \n",
       "107  2018-07-07          550.0  "
      ]
     },
     "execution_count": 23,
     "metadata": {},
     "output_type": "execute_result"
    }
   ],
   "source": [
    "new_items"
   ]
  }
 ],
 "metadata": {
  "kernelspec": {
   "display_name": "Python 3",
   "language": "python",
   "name": "python3"
  },
  "language_info": {
   "codemirror_mode": {
    "name": "ipython",
    "version": 3
   },
   "file_extension": ".py",
   "mimetype": "text/x-python",
   "name": "python",
   "nbconvert_exporter": "python",
   "pygments_lexer": "ipython3",
   "version": "3.6.4"
  }
 },
 "nbformat": 4,
 "nbformat_minor": 2
}
