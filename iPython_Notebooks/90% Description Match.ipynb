{
 "cells": [
  {
   "cell_type": "code",
   "execution_count": 1,
   "metadata": {},
   "outputs": [],
   "source": [
    "#Importing the dataset\n",
    "import pandas as pd\n",
    "cameras = pd.read_csv('CanonCurrentListings.csv')"
   ]
  },
  {
   "cell_type": "code",
   "execution_count": 2,
   "metadata": {},
   "outputs": [],
   "source": [
    "#Getting the descriptions\n",
    "des = cameras.Description"
   ]
  },
  {
   "cell_type": "code",
   "execution_count": 4,
   "metadata": {},
   "outputs": [],
   "source": [
    "#Copying the camera descriptions\n",
    "from copy import copy\n",
    "des2 = copy(des)"
   ]
  },
  {
   "cell_type": "code",
   "execution_count": 5,
   "metadata": {},
   "outputs": [
    {
     "data": {
      "text/plain": [
       "'Canon EF 100mm  Ultrasonic  f/2.8 Macro USM Used but in like new condition  It come with Original Box , Manual and Hood  Plus front and back capsAutofocus lens for macro photography up to life-size (1x) magnification. Inner focusing affords a long working distance of 5.9in. (149mm) at 1x. A 3-group floating system results in excellent delineation at all focusing distances. Ring USM for silent and high-speed AF, and full-time manual focusing also provided.Main Unit SpecFocal Length & Maximum Aperture 100mm 1:2.8 Please send me an email or call at  show contact info  if no answer , leave a messageLens Construction 12 elements in 8 groups Diagonal Angle of View 24° Focus Adjustment Inner focusing system with USM Closest Focusing Distance 0.31m / 1 ft. (film plane to subject) Filter Size 58mm Max. Diameter x Length, Weight 3.1\" x 4.7\", 21.1 oz. / 79.0 x 119.0mm, 600gINSERTINGTEXTTOGET90'"
      ]
     },
     "execution_count": 5,
     "metadata": {},
     "output_type": "execute_result"
    }
   ],
   "source": [
    "#Adding string to second entry in camera descritions duplicate\n",
    "des2[1] += 'INSERTINGTEXTTOGET90'"
   ]
  },
  {
   "cell_type": "code",
   "execution_count": 10,
   "metadata": {},
   "outputs": [],
   "source": [
    "#For comparison, will be using \"Minimum Edit Distance\" as explained in this video...\n",
    "#https://www.youtube.com/watch?v=Xxx0b7djCrs\n",
    "\n",
    "#Finding the minimum # of editing operations (insertions, deletions, substitutions)\n",
    "#Example: Intention vs. Execution\n",
    "    #Start by aligning\n",
    "    #INTE*NTION\n",
    "    #||||||||||\n",
    "    #*EXECUTION\n",
    "    #dss is    (1 deletion, 3 substitutions, and 1 insertion are necessary to turn Intention into Execution)\n",
    "    #Distance between them is 5, in Levenshtein substitutions cost 2, therefore distance is 8\n",
    "import jellyfish as jf"
   ]
  },
  {
   "cell_type": "code",
   "execution_count": 9,
   "metadata": {},
   "outputs": [
    {
     "data": {
      "text/plain": [
       "20"
      ]
     },
     "execution_count": 9,
     "metadata": {},
     "output_type": "execute_result"
    }
   ],
   "source": [
    "jf.levenshtein_distance(des[1], des2[1])"
   ]
  },
  {
   "cell_type": "code",
   "execution_count": 11,
   "metadata": {},
   "outputs": [
    {
     "data": {
      "text/plain": [
       "1.0"
      ]
     },
     "execution_count": 11,
     "metadata": {},
     "output_type": "execute_result"
    }
   ],
   "source": [
    "jf.jaro_distance(des[1],des[1])"
   ]
  },
  {
   "cell_type": "code",
   "execution_count": 16,
   "metadata": {},
   "outputs": [],
   "source": [
    "from fuzzywuzzy import fuzz"
   ]
  },
  {
   "cell_type": "code",
   "execution_count": 18,
   "metadata": {},
   "outputs": [
    {
     "data": {
      "text/plain": [
       "99"
      ]
     },
     "execution_count": 18,
     "metadata": {},
     "output_type": "execute_result"
    }
   ],
   "source": [
    "fuzz.ratio(des[1],des2[1])"
   ]
  },
  {
   "cell_type": "code",
   "execution_count": null,
   "metadata": {},
   "outputs": [],
   "source": []
  }
 ],
 "metadata": {
  "kernelspec": {
   "display_name": "Python 3",
   "language": "python",
   "name": "python3"
  },
  "language_info": {
   "codemirror_mode": {
    "name": "ipython",
    "version": 3
   },
   "file_extension": ".py",
   "mimetype": "text/x-python",
   "name": "python",
   "nbconvert_exporter": "python",
   "pygments_lexer": "ipython3",
   "version": "3.6.0"
  }
 },
 "nbformat": 4,
 "nbformat_minor": 2
}
