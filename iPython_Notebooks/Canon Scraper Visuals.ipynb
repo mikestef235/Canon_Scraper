{
 "cells": [
  {
   "cell_type": "markdown",
   "metadata": {},
   "source": [
    "### Importing Libraries"
   ]
  },
  {
   "cell_type": "code",
   "execution_count": 19,
   "metadata": {},
   "outputs": [],
   "source": [
    "from selenium import webdriver\n",
    "from selenium.webdriver.common.keys import Keys\n",
    "from bs4 import BeautifulSoup\n",
    "from more_itertools import unique_everseen\n",
    "from pprint import pprint\n",
    "from wordcloud import WordCloud\n",
    "from PIL import Image\n",
    "import numpy as np\n",
    "import matplotlib.pyplot as plt\n",
    "import pandas as pd \n",
    "from collections import OrderedDict\n",
    "from datetime import date\n",
    "import time\n",
    "import csv\n",
    "import datetime as dt\n",
    "import warnings\n",
    "warnings.filterwarnings('ignore')"
   ]
  },
  {
   "cell_type": "markdown",
   "metadata": {},
   "source": [
    "## Start of Visuals"
   ]
  },
  {
   "cell_type": "code",
   "execution_count": null,
   "metadata": {},
   "outputs": [],
   "source": [
    "#Joining descriptions for a wordcloud\n",
    "s = ''\n",
    "for item in dailyitems:\n",
    "    s += item[2]\n",
    "# print(s)\n",
    "# wordcloud = WordCloud().generate(s)\n",
    "# plt.imshow(wordcloud, interpolation='bilinear')\n",
    "# plt.axis(\"off\")\n",
    "# # lower max_font_size\n",
    "# wordcloud = WordCloud(max_font_size=40).generate(text)\n",
    "# plt.figure()\n",
    "# plt.imshow(wordcloud, interpolation=\"bilinear\")\n",
    "# plt.axis(\"off\")\n",
    "# plt.show()"
   ]
  },
  {
   "cell_type": "code",
   "execution_count": null,
   "metadata": {},
   "outputs": [],
   "source": [
    "#Making an image in the shape of the camera\n",
    "# read the mask image\n",
    "col = Image.open(\"/Users/mikes/Documents/GetawayDevelopment/camera.jpg\")\n",
    "gray = col.convert('L')\n",
    "bw = gray.point(lambda x: 0 if x<230 else 255, '1')\n",
    "bw.save(\"/Users/mikes/Documents/GetawayDevelopment/camera_mask.jpg\")\n",
    "\n",
    "camera_mask = np.array(Image.open(\"/Users/mikes/Documents/GetawayDevelopment/camera_mask.jpg\"))\n",
    "\n",
    "wc = WordCloud(background_color=\"white\", max_words=2000, mask=camera_mask)\n",
    "# generate word cloud\n",
    "wc.generate(s)\n",
    "\n",
    "# store to file\n",
    "wc.to_file(\"/Users/mikes/Documents/GetawayDevelopment/canon.jpg\")\n",
    "\n",
    "# show\n",
    "plt.imshow(wc, interpolation='bilinear')\n",
    "plt.axis(\"off\")\n",
    "plt.figure()\n",
    "\n",
    "#This plots the grey-scale camera\n",
    "plt.imshow(camera_mask, cmap='gray', interpolation='bilinear')\n",
    "plt.axis(\"off\")\n",
    "plt.show()"
   ]
  },
  {
   "cell_type": "code",
   "execution_count": null,
   "metadata": {},
   "outputs": [],
   "source": [
    "df.Price.std()"
   ]
  },
  {
   "cell_type": "code",
   "execution_count": null,
   "metadata": {},
   "outputs": [],
   "source": [
    "#Accessing the price dataframe\n",
    "#df.Price = df.Price.str.replace(\"$\", \"\") !PROBABLY SHOULDN\"T BE COMMENTED OUT!!!!\n",
    "df.Price = pd.to_numeric(df.Price)\n",
    "df"
   ]
  },
  {
   "cell_type": "code",
   "execution_count": null,
   "metadata": {},
   "outputs": [],
   "source": [
    "import plotly.plotly as py\n",
    "from plotly.graph_objs import *\n",
    "\n",
    "data = [Bar(x=df.Title, y = df.Price)]\n",
    "py.iplot(data)"
   ]
  },
  {
   "cell_type": "code",
   "execution_count": null,
   "metadata": {},
   "outputs": [],
   "source": []
  }
 ],
 "metadata": {
  "kernelspec": {
   "display_name": "Python 3",
   "language": "python",
   "name": "python3"
  },
  "language_info": {
   "codemirror_mode": {
    "name": "ipython",
    "version": 3
   },
   "file_extension": ".py",
   "mimetype": "text/x-python",
   "name": "python",
   "nbconvert_exporter": "python",
   "pygments_lexer": "ipython3",
   "version": "3.6.4"
  }
 },
 "nbformat": 4,
 "nbformat_minor": 2
}
