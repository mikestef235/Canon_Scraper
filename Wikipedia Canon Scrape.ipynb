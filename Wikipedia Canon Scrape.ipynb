{
 "cells": [
  {
   "cell_type": "code",
   "execution_count": 1,
   "metadata": {},
   "outputs": [],
   "source": [
    "from selenium import webdriver\n",
    "from selenium.webdriver.common.keys import Keys\n",
    "from bs4 import BeautifulSoup\n",
    "import wikipedia"
   ]
  },
  {
   "cell_type": "code",
   "execution_count": 2,
   "metadata": {},
   "outputs": [],
   "source": [
    "#Starting the driver and finding the query element\n",
    "driver = webdriver.Chrome()\n",
    "driver.get(\"https://en.wikipedia.org/wiki/List_of_Canon_products#Digital_SLR_cameras\")"
   ]
  },
  {
   "cell_type": "code",
   "execution_count": 3,
   "metadata": {},
   "outputs": [],
   "source": [
    "#Prepping for beautiful soup\n",
    "html = driver.page_source\n",
    "soup = BeautifulSoup(html, \"html.parser\")"
   ]
  },
  {
   "cell_type": "code",
   "execution_count": 27,
   "metadata": {
    "scrolled": true
   },
   "outputs": [
    {
     "name": "stdout",
     "output_type": "stream",
     "text": [
      "12\n",
      "<a href=\"/wiki/Canon_EOS_800D\" title=\"Canon EOS 800D\">EOS 800D/Rebel T7i/Kiss X9i</a>\n"
     ]
    }
   ],
   "source": [
    "links = soup.findAll('a')\n",
    "\n",
    "#Get all the dslr camera links\n",
    "noNone = [x for x in links if x.string is not None]\n",
    "eos = [x for x in noNone if \"EOS\" in x.string]\n",
    "eos = [x for x in eos if ('EOS' != x.string) & ('Canon EOS' != x.string)]\n",
    "\n",
    "#Finding index where DSLR cameras end\n",
    "titles = [x.string for x in eos]\n",
    "#print(titles.index('Canon EOS M'))\n",
    "#print(titles.index('EOS 760D/Rebel T6s/8000D'))\n",
    "eos = eos[:55]\n",
    "del eos[12]\n",
    "#print(eos[12])\n",
    "#[x.string for x in eos]"
   ]
  },
  {
   "cell_type": "code",
   "execution_count": 28,
   "metadata": {},
   "outputs": [
    {
     "name": "stdout",
     "output_type": "stream",
     "text": [
      "Canon EOS 400D\n",
      "Canon EOS 5D Mark II\n",
      "Canon EOS 800D\n",
      "Canon EOS 350D\n",
      "Canon EOS 400D\n",
      "Canon EOS 450D\n",
      "Canon EOS 500D\n",
      "Canon EOS 550D\n",
      "Canon EOS 600D\n",
      "Canon EOS 650D\n",
      "Canon EOS 700D\n",
      "Canon EOS 750D\n",
      "Canon EOS 800D\n",
      "Canon EOS 100D\n",
      "Canon EOS 200D\n",
      "Canon EOS 1000D\n",
      "Canon EOS 1100D\n",
      "Canon EOS 1200D\n",
      "Canon EOS 1300D\n",
      "Canon EOS 77D\n",
      "Canon EOS D30\n",
      "Canon EOS D60\n",
      "Canon EOS 10D\n",
      "Canon EOS 20D\n",
      "Canon EOS 20D\n",
      "Canon EOS 30D\n",
      "Canon EOS 40D\n",
      "Canon EOS 50D\n",
      "Canon EOS 60D\n",
      "Canon EOS 60D\n",
      "Canon EOS 70D\n",
      "Canon EOS 77D\n",
      "Canon EOS 80D\n",
      "Canon EOS 7D\n",
      "Canon EOS 7D Mark II\n",
      "Canon EOS 5D\n",
      "Canon EOS 5D Mark II\n",
      "Canon EOS 5D Mark III\n",
      "Canon EOS 5D Mark IV\n",
      "Canon EOS 5DS\n",
      "Canon EOS 5DS\n",
      "Canon EOS 6D\n",
      "Canon EOS 6D Mark II\n",
      "Canon EOS-1D\n",
      "Canon EOS-1Ds\n",
      "Canon EOS-1D Mark II\n",
      "Canon EOS-1Ds Mark II\n",
      "Canon EOS-1D Mark II\n",
      "Canon EOS-1D Mark III\n",
      "Canon EOS-1Ds Mark III\n",
      "Canon EOS-1D Mark IV\n",
      "Canon EOS-1D X\n",
      "Canon EOS-1D X Mark II\n",
      "Canon EOS-1D C\n"
     ]
    }
   ],
   "source": [
    "#Get the camera models\n",
    "for link in eos:\n",
    "    \n",
    "    #Get the item model\n",
    "    camModel = link.string\n",
    "    \n",
    "    #Click the link\n",
    "    element = driver.find_element_by_xpath(\".//*[contains(text(), '%s')]\" %camModel)\n",
    "    driver.execute_script('arguments[0].click();', element)\n",
    "    \n",
    "    #Find the price\n",
    "    url = driver.page_source\n",
    "    wk = wikipedia.page(camModel)\n",
    "    print(wk.title)\n",
    "    \n",
    "    \n",
    "    \n",
    "    #Clicking back a page\n",
    "    driver.back()"
   ]
  },
  {
   "cell_type": "code",
   "execution_count": 29,
   "metadata": {},
   "outputs": [
    {
     "name": "stdout",
     "output_type": "stream",
     "text": [
      "Canon EOS 80D\n"
     ]
    }
   ],
   "source": [
    "wk = wikipedia.page('Canon EOS 80D')\n",
    "print(wk.title)"
   ]
  },
  {
   "cell_type": "code",
   "execution_count": null,
   "metadata": {},
   "outputs": [],
   "source": [
    "import regex as re\n",
    "\n",
    "#Finding all dollar values in the wikipage content\n",
    "money = re.compile('|'.join([\n",
    "  r'\\$\\d{2,4}',  # e.g., $1000\n",
    "  r'\\$\\d\\,\\d{2,4}',           # e.g., $2,999\n",
    "]))\n",
    "\n",
    "prices = money.findall(wk.content)\n",
    "prices"
   ]
  }
 ],
 "metadata": {
  "kernelspec": {
   "display_name": "Python 3",
   "language": "python",
   "name": "python3"
  },
  "language_info": {
   "codemirror_mode": {
    "name": "ipython",
    "version": 3
   },
   "file_extension": ".py",
   "mimetype": "text/x-python",
   "name": "python",
   "nbconvert_exporter": "python",
   "pygments_lexer": "ipython3",
   "version": "3.6.0"
  }
 },
 "nbformat": 4,
 "nbformat_minor": 2
}
